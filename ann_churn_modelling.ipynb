{
  "nbformat": 4,
  "nbformat_minor": 0,
  "metadata": {
    "colab": {
      "name": "ann_churn modelling.ipynb",
      "provenance": []
    },
    "kernelspec": {
      "name": "python3",
      "display_name": "Python 3"
    }
  },
  "cells": [
    {
      "cell_type": "code",
      "metadata": {
        "id": "BLv9bPJu47_9",
        "colab": {
          "base_uri": "https://localhost:8080/",
          "height": 35
        },
        "outputId": "7127b677-b329-441a-abbe-8012057d875b"
      },
      "source": [
        "import tensorflow as tf\n",
        "import numpy as np\n",
        "import pandas as pd\n",
        "tf.__version__"
      ],
      "execution_count": null,
      "outputs": [
        {
          "output_type": "execute_result",
          "data": {
            "application/vnd.google.colaboratory.intrinsic+json": {
              "type": "string"
            },
            "text/plain": [
              "'2.3.0'"
            ]
          },
          "metadata": {
            "tags": []
          },
          "execution_count": 20
        }
      ]
    },
    {
      "cell_type": "code",
      "metadata": {
        "id": "QyZk1fsRFkUF",
        "colab": {
          "base_uri": "https://localhost:8080/",
          "height": 275
        },
        "outputId": "1ad05393-4aad-4edc-e3ee-1562406db86d"
      },
      "source": [
        "data =pd.read_csv(\"Churn_Modelling.csv\")\n",
        "print(data)"
      ],
      "execution_count": null,
      "outputs": [
        {
          "output_type": "stream",
          "text": [
            "      RowNumber  CustomerId    Surname  ...  IsActiveMember EstimatedSalary Exited\n",
            "0             1    15634602   Hargrave  ...               1       101348.88      1\n",
            "1             2    15647311       Hill  ...               1       112542.58      0\n",
            "2             3    15619304       Onio  ...               0       113931.57      1\n",
            "3             4    15701354       Boni  ...               0        93826.63      0\n",
            "4             5    15737888   Mitchell  ...               1        79084.10      0\n",
            "...         ...         ...        ...  ...             ...             ...    ...\n",
            "9995       9996    15606229   Obijiaku  ...               0        96270.64      0\n",
            "9996       9997    15569892  Johnstone  ...               1       101699.77      0\n",
            "9997       9998    15584532        Liu  ...               1        42085.58      1\n",
            "9998       9999    15682355  Sabbatini  ...               0        92888.52      1\n",
            "9999      10000    15628319     Walker  ...               0        38190.78      0\n",
            "\n",
            "[10000 rows x 14 columns]\n"
          ],
          "name": "stdout"
        }
      ]
    },
    {
      "cell_type": "code",
      "metadata": {
        "id": "KnVePDwqF-vW",
        "colab": {
          "base_uri": "https://localhost:8080/",
          "height": 136
        },
        "outputId": "5905da32-0cfa-4172-b640-137eddd7e4c5"
      },
      "source": [
        "x=data.iloc[:,3:-1].values\n",
        "print(x)\n"
      ],
      "execution_count": null,
      "outputs": [
        {
          "output_type": "stream",
          "text": [
            "[[619 'France' 'Female' ... 1 1 101348.88]\n",
            " [608 'Spain' 'Female' ... 0 1 112542.58]\n",
            " [502 'France' 'Female' ... 1 0 113931.57]\n",
            " ...\n",
            " [709 'France' 'Female' ... 0 1 42085.58]\n",
            " [772 'Germany' 'Male' ... 1 0 92888.52]\n",
            " [792 'France' 'Female' ... 1 0 38190.78]]\n"
          ],
          "name": "stdout"
        }
      ]
    },
    {
      "cell_type": "code",
      "metadata": {
        "id": "hBdpROqB5fKx",
        "colab": {
          "base_uri": "https://localhost:8080/",
          "height": 221
        },
        "outputId": "760ae95b-57fe-4601-8798-0dc29aee3fae"
      },
      "source": [
        "y=data.iloc[:,-1]\n",
        "print(y)"
      ],
      "execution_count": null,
      "outputs": [
        {
          "output_type": "stream",
          "text": [
            "0       1\n",
            "1       0\n",
            "2       1\n",
            "3       0\n",
            "4       0\n",
            "       ..\n",
            "9995    0\n",
            "9996    0\n",
            "9997    1\n",
            "9998    1\n",
            "9999    0\n",
            "Name: Exited, Length: 10000, dtype: int64\n"
          ],
          "name": "stdout"
        }
      ]
    },
    {
      "cell_type": "code",
      "metadata": {
        "id": "svxy3GZ754Zy",
        "colab": {
          "base_uri": "https://localhost:8080/",
          "height": 136
        },
        "outputId": "9da12ff2-6770-40ed-8619-21f12cfd3445"
      },
      "source": [
        "from sklearn.preprocessing import LabelEncoder\n",
        "le=LabelEncoder()\n",
        "x[:,2]=le.fit_transform(x[:,2])\n",
        "print(x)"
      ],
      "execution_count": null,
      "outputs": [
        {
          "output_type": "stream",
          "text": [
            "[[619 'France' 0 ... 1 1 101348.88]\n",
            " [608 'Spain' 0 ... 0 1 112542.58]\n",
            " [502 'France' 0 ... 1 0 113931.57]\n",
            " ...\n",
            " [709 'France' 0 ... 0 1 42085.58]\n",
            " [772 'Germany' 1 ... 1 0 92888.52]\n",
            " [792 'France' 0 ... 1 0 38190.78]]\n"
          ],
          "name": "stdout"
        }
      ]
    },
    {
      "cell_type": "code",
      "metadata": {
        "id": "fQX7xaqJeWJz",
        "colab": {
          "base_uri": "https://localhost:8080/",
          "height": 136
        },
        "outputId": "326f36a2-65e3-4db4-de69-5121b8aa26fb"
      },
      "source": [
        "from sklearn.compose import ColumnTransformer\n",
        "from sklearn.preprocessing import OneHotEncoder\n",
        "ct=ColumnTransformer(transformers=[('encoder',OneHotEncoder(),[1])],remainder='passthrough')\n",
        "x=np.array(ct.fit_transform(x))\n",
        "print(x)\n"
      ],
      "execution_count": null,
      "outputs": [
        {
          "output_type": "stream",
          "text": [
            "[[1.0 0.0 0.0 ... 1 1 101348.88]\n",
            " [0.0 0.0 1.0 ... 0 1 112542.58]\n",
            " [1.0 0.0 0.0 ... 1 0 113931.57]\n",
            " ...\n",
            " [1.0 0.0 0.0 ... 0 1 42085.58]\n",
            " [0.0 1.0 0.0 ... 1 0 92888.52]\n",
            " [1.0 0.0 0.0 ... 1 0 38190.78]]\n"
          ],
          "name": "stdout"
        }
      ]
    },
    {
      "cell_type": "code",
      "metadata": {
        "id": "SoHMYtcmzoEV",
        "colab": {
          "base_uri": "https://localhost:8080/",
          "height": 663
        },
        "outputId": "f149b437-8f97-48b9-edc5-613b1c03d76e"
      },
      "source": [
        "from sklearn.model_selection import train_test_split\n",
        "xtrain,xtest,ytrain,ytest=train_test_split(x,y,test_size=0.2,random_state=0)\n",
        "print(xtrain)\n",
        "print(ytrain)\n",
        "print(xtest)\n",
        "print(ytest)"
      ],
      "execution_count": null,
      "outputs": [
        {
          "output_type": "stream",
          "text": [
            "[[0.0 0.0 1.0 ... 1 0 163830.64]\n",
            " [0.0 1.0 0.0 ... 1 1 57098.0]\n",
            " [1.0 0.0 0.0 ... 1 0 185630.76]\n",
            " ...\n",
            " [1.0 0.0 0.0 ... 1 0 181429.87]\n",
            " [0.0 0.0 1.0 ... 1 1 148750.16]\n",
            " [0.0 1.0 0.0 ... 1 0 118855.26]]\n",
            "7389    0\n",
            "9275    0\n",
            "2995    0\n",
            "5316    0\n",
            "356     0\n",
            "       ..\n",
            "9225    0\n",
            "4859    0\n",
            "3264    0\n",
            "9845    0\n",
            "2732    1\n",
            "Name: Exited, Length: 8000, dtype: int64\n",
            "[[0.0 1.0 0.0 ... 1 1 192852.67]\n",
            " [1.0 0.0 0.0 ... 1 0 128702.1]\n",
            " [0.0 0.0 1.0 ... 1 1 75732.25]\n",
            " ...\n",
            " [0.0 0.0 1.0 ... 1 0 141533.19]\n",
            " [0.0 1.0 0.0 ... 1 1 11276.48]\n",
            " [0.0 1.0 0.0 ... 1 0 192950.6]]\n",
            "9394    0\n",
            "898     1\n",
            "2398    0\n",
            "5906    0\n",
            "2343    0\n",
            "       ..\n",
            "1037    0\n",
            "2899    0\n",
            "9549    0\n",
            "2740    0\n",
            "6690    0\n",
            "Name: Exited, Length: 2000, dtype: int64\n"
          ],
          "name": "stdout"
        }
      ]
    },
    {
      "cell_type": "code",
      "metadata": {
        "id": "bDxjWlCR0qn5",
        "colab": {
          "base_uri": "https://localhost:8080/",
          "height": 459
        },
        "outputId": "0138551c-bd68-4e60-b3e8-65ce73f7bc35"
      },
      "source": [
        "from sklearn.preprocessing import StandardScaler\n",
        "sc=StandardScaler()\n",
        "xtrain=sc.fit_transform(xtrain)\n",
        "xtest=sc.fit_transform(xtest)\n",
        "print(xtrain)\n",
        "print(xtest)\n",
        "\n",
        "\n"
      ],
      "execution_count": null,
      "outputs": [
        {
          "output_type": "stream",
          "text": [
            "[[-1.01460667 -0.5698444   1.74309049 ...  0.64259497 -1.03227043\n",
            "   1.10643166]\n",
            " [-1.01460667  1.75486502 -0.57369368 ...  0.64259497  0.9687384\n",
            "  -0.74866447]\n",
            " [ 0.98560362 -0.5698444  -0.57369368 ...  0.64259497 -1.03227043\n",
            "   1.48533467]\n",
            " ...\n",
            " [ 0.98560362 -0.5698444  -0.57369368 ...  0.64259497 -1.03227043\n",
            "   1.41231994]\n",
            " [-1.01460667 -0.5698444   1.74309049 ...  0.64259497  0.9687384\n",
            "   0.84432121]\n",
            " [-1.01460667  1.75486502 -0.57369368 ...  0.64259497 -1.03227043\n",
            "   0.32472465]]\n",
            "[[-0.95692675  1.62776996 -0.57427105 ...  0.66011376  0.97628121\n",
            "   1.62185911]\n",
            " [ 1.04501206 -0.61433742 -0.57427105 ...  0.66011376 -1.02429504\n",
            "   0.504204  ]\n",
            " [-0.95692675 -0.61433742  1.74133801 ...  0.66011376  0.97628121\n",
            "  -0.41865644]\n",
            " ...\n",
            " [-0.95692675 -0.61433742  1.74133801 ...  0.66011376 -1.02429504\n",
            "   0.72775202]\n",
            " [-0.95692675  1.62776996 -0.57427105 ...  0.66011376  0.97628121\n",
            "  -1.54162886]\n",
            " [-0.95692675  1.62776996 -0.57427105 ...  0.66011376 -1.02429504\n",
            "   1.62356528]]\n"
          ],
          "name": "stdout"
        }
      ]
    },
    {
      "cell_type": "code",
      "metadata": {
        "id": "Wq8DU-GC3mMj",
        "colab": {
          "base_uri": "https://localhost:8080/",
          "height": 34
        },
        "outputId": "8d83db21-9998-474a-fcdc-345ec7ca688e"
      },
      "source": [
        "ann=tf.keras.models.Sequential()\n",
        "print(ann)"
      ],
      "execution_count": null,
      "outputs": [
        {
          "output_type": "stream",
          "text": [
            "<tensorflow.python.keras.engine.sequential.Sequential object at 0x7fdbb471cc50>\n"
          ],
          "name": "stdout"
        }
      ]
    },
    {
      "cell_type": "code",
      "metadata": {
        "id": "-DT9N06e3tD1"
      },
      "source": [
        "ann.add(tf.keras.layers.Dense(units=6 ,activation='relu'))\n",
        "ann.add(tf.keras.layers.Dense(units=6,activation='relu'))\n",
        "ann.add(tf.keras.layers.Dense(units=1,activation='sigmoid'))"
      ],
      "execution_count": null,
      "outputs": []
    },
    {
      "cell_type": "code",
      "metadata": {
        "id": "iHQNccYp4gCR"
      },
      "source": [
        "ann.compile(optimizer='adam',loss='binary_crossentropy',metrics=['accuracy'])"
      ],
      "execution_count": null,
      "outputs": []
    },
    {
      "cell_type": "code",
      "metadata": {
        "id": "N394fCOH5-w4",
        "colab": {
          "base_uri": "https://localhost:8080/",
          "height": 1000
        },
        "outputId": "000a8dc3-89ee-40de-a8cd-22c54cc55e02"
      },
      "source": [
        "ann.fit(xtrain,ytrain,batch_size=32,epochs=100)"
      ],
      "execution_count": null,
      "outputs": [
        {
          "output_type": "stream",
          "text": [
            "Epoch 1/100\n",
            "250/250 [==============================] - 0s 588us/step - loss: 0.5653 - accuracy: 0.7442\n",
            "Epoch 2/100\n",
            "250/250 [==============================] - 0s 576us/step - loss: 0.4582 - accuracy: 0.8065\n",
            "Epoch 3/100\n",
            "250/250 [==============================] - 0s 578us/step - loss: 0.4375 - accuracy: 0.8155\n",
            "Epoch 4/100\n",
            "250/250 [==============================] - 0s 592us/step - loss: 0.4300 - accuracy: 0.8169\n",
            "Epoch 5/100\n",
            "250/250 [==============================] - 0s 566us/step - loss: 0.4251 - accuracy: 0.8192\n",
            "Epoch 6/100\n",
            "250/250 [==============================] - 0s 558us/step - loss: 0.4204 - accuracy: 0.8223\n",
            "Epoch 7/100\n",
            "250/250 [==============================] - 0s 573us/step - loss: 0.4164 - accuracy: 0.8239\n",
            "Epoch 8/100\n",
            "250/250 [==============================] - 0s 570us/step - loss: 0.4129 - accuracy: 0.8238\n",
            "Epoch 9/100\n",
            "250/250 [==============================] - 0s 557us/step - loss: 0.4100 - accuracy: 0.8256\n",
            "Epoch 10/100\n",
            "250/250 [==============================] - 0s 570us/step - loss: 0.4073 - accuracy: 0.8256\n",
            "Epoch 11/100\n",
            "250/250 [==============================] - 0s 578us/step - loss: 0.4050 - accuracy: 0.8251\n",
            "Epoch 12/100\n",
            "250/250 [==============================] - 0s 583us/step - loss: 0.4027 - accuracy: 0.8266\n",
            "Epoch 13/100\n",
            "250/250 [==============================] - 0s 578us/step - loss: 0.4007 - accuracy: 0.8281\n",
            "Epoch 14/100\n",
            "250/250 [==============================] - 0s 588us/step - loss: 0.3982 - accuracy: 0.8298\n",
            "Epoch 15/100\n",
            "250/250 [==============================] - 0s 561us/step - loss: 0.3964 - accuracy: 0.8310\n",
            "Epoch 16/100\n",
            "250/250 [==============================] - 0s 571us/step - loss: 0.3938 - accuracy: 0.8296\n",
            "Epoch 17/100\n",
            "250/250 [==============================] - 0s 560us/step - loss: 0.3915 - accuracy: 0.8315\n",
            "Epoch 18/100\n",
            "250/250 [==============================] - 0s 575us/step - loss: 0.3891 - accuracy: 0.8315\n",
            "Epoch 19/100\n",
            "250/250 [==============================] - 0s 592us/step - loss: 0.3863 - accuracy: 0.8339\n",
            "Epoch 20/100\n",
            "250/250 [==============================] - 0s 545us/step - loss: 0.3844 - accuracy: 0.8341\n",
            "Epoch 21/100\n",
            "250/250 [==============================] - 0s 557us/step - loss: 0.3814 - accuracy: 0.8335\n",
            "Epoch 22/100\n",
            "250/250 [==============================] - 0s 540us/step - loss: 0.3790 - accuracy: 0.8394\n",
            "Epoch 23/100\n",
            "250/250 [==============================] - 0s 560us/step - loss: 0.3761 - accuracy: 0.8444\n",
            "Epoch 24/100\n",
            "250/250 [==============================] - 0s 542us/step - loss: 0.3745 - accuracy: 0.8457\n",
            "Epoch 25/100\n",
            "250/250 [==============================] - 0s 571us/step - loss: 0.3717 - accuracy: 0.8478\n",
            "Epoch 26/100\n",
            "250/250 [==============================] - 0s 585us/step - loss: 0.3697 - accuracy: 0.8490\n",
            "Epoch 27/100\n",
            "250/250 [==============================] - 0s 572us/step - loss: 0.3679 - accuracy: 0.8500\n",
            "Epoch 28/100\n",
            "250/250 [==============================] - 0s 586us/step - loss: 0.3658 - accuracy: 0.8500\n",
            "Epoch 29/100\n",
            "250/250 [==============================] - 0s 563us/step - loss: 0.3640 - accuracy: 0.8509\n",
            "Epoch 30/100\n",
            "250/250 [==============================] - 0s 564us/step - loss: 0.3623 - accuracy: 0.8503\n",
            "Epoch 31/100\n",
            "250/250 [==============================] - 0s 560us/step - loss: 0.3601 - accuracy: 0.8524\n",
            "Epoch 32/100\n",
            "250/250 [==============================] - 0s 589us/step - loss: 0.3581 - accuracy: 0.8511\n",
            "Epoch 33/100\n",
            "250/250 [==============================] - 0s 564us/step - loss: 0.3571 - accuracy: 0.8520\n",
            "Epoch 34/100\n",
            "250/250 [==============================] - 0s 625us/step - loss: 0.3548 - accuracy: 0.8528\n",
            "Epoch 35/100\n",
            "250/250 [==============================] - 0s 582us/step - loss: 0.3537 - accuracy: 0.8547\n",
            "Epoch 36/100\n",
            "250/250 [==============================] - 0s 562us/step - loss: 0.3517 - accuracy: 0.8561\n",
            "Epoch 37/100\n",
            "250/250 [==============================] - 0s 564us/step - loss: 0.3506 - accuracy: 0.8547\n",
            "Epoch 38/100\n",
            "250/250 [==============================] - 0s 592us/step - loss: 0.3495 - accuracy: 0.8556\n",
            "Epoch 39/100\n",
            "250/250 [==============================] - 0s 577us/step - loss: 0.3485 - accuracy: 0.8561\n",
            "Epoch 40/100\n",
            "250/250 [==============================] - 0s 563us/step - loss: 0.3474 - accuracy: 0.8580\n",
            "Epoch 41/100\n",
            "250/250 [==============================] - 0s 558us/step - loss: 0.3462 - accuracy: 0.8572\n",
            "Epoch 42/100\n",
            "250/250 [==============================] - 0s 595us/step - loss: 0.3456 - accuracy: 0.8568\n",
            "Epoch 43/100\n",
            "250/250 [==============================] - 0s 565us/step - loss: 0.3449 - accuracy: 0.8584\n",
            "Epoch 44/100\n",
            "250/250 [==============================] - 0s 573us/step - loss: 0.3443 - accuracy: 0.8585\n",
            "Epoch 45/100\n",
            "250/250 [==============================] - 0s 611us/step - loss: 0.3442 - accuracy: 0.8559\n",
            "Epoch 46/100\n",
            "250/250 [==============================] - 0s 580us/step - loss: 0.3429 - accuracy: 0.8590\n",
            "Epoch 47/100\n",
            "250/250 [==============================] - 0s 562us/step - loss: 0.3429 - accuracy: 0.8564\n",
            "Epoch 48/100\n",
            "250/250 [==============================] - 0s 594us/step - loss: 0.3422 - accuracy: 0.8594\n",
            "Epoch 49/100\n",
            "250/250 [==============================] - 0s 547us/step - loss: 0.3419 - accuracy: 0.8586\n",
            "Epoch 50/100\n",
            "250/250 [==============================] - 0s 539us/step - loss: 0.3418 - accuracy: 0.8595\n",
            "Epoch 51/100\n",
            "250/250 [==============================] - 0s 560us/step - loss: 0.3411 - accuracy: 0.8600\n",
            "Epoch 52/100\n",
            "250/250 [==============================] - 0s 576us/step - loss: 0.3408 - accuracy: 0.8590\n",
            "Epoch 53/100\n",
            "250/250 [==============================] - 0s 563us/step - loss: 0.3396 - accuracy: 0.8620\n",
            "Epoch 54/100\n",
            "250/250 [==============================] - 0s 557us/step - loss: 0.3400 - accuracy: 0.8579\n",
            "Epoch 55/100\n",
            "250/250 [==============================] - 0s 569us/step - loss: 0.3397 - accuracy: 0.8605\n",
            "Epoch 56/100\n",
            "250/250 [==============================] - 0s 562us/step - loss: 0.3394 - accuracy: 0.8606\n",
            "Epoch 57/100\n",
            "250/250 [==============================] - 0s 565us/step - loss: 0.3390 - accuracy: 0.8589\n",
            "Epoch 58/100\n",
            "250/250 [==============================] - 0s 556us/step - loss: 0.3394 - accuracy: 0.8604\n",
            "Epoch 59/100\n",
            "250/250 [==============================] - 0s 548us/step - loss: 0.3388 - accuracy: 0.8595\n",
            "Epoch 60/100\n",
            "250/250 [==============================] - 0s 578us/step - loss: 0.3386 - accuracy: 0.8594\n",
            "Epoch 61/100\n",
            "250/250 [==============================] - 0s 554us/step - loss: 0.3380 - accuracy: 0.8597\n",
            "Epoch 62/100\n",
            "250/250 [==============================] - 0s 579us/step - loss: 0.3381 - accuracy: 0.8596\n",
            "Epoch 63/100\n",
            "250/250 [==============================] - 0s 564us/step - loss: 0.3384 - accuracy: 0.8577\n",
            "Epoch 64/100\n",
            "250/250 [==============================] - 0s 554us/step - loss: 0.3382 - accuracy: 0.8610\n",
            "Epoch 65/100\n",
            "250/250 [==============================] - 0s 542us/step - loss: 0.3381 - accuracy: 0.8601\n",
            "Epoch 66/100\n",
            "250/250 [==============================] - 0s 558us/step - loss: 0.3374 - accuracy: 0.8594\n",
            "Epoch 67/100\n",
            "250/250 [==============================] - 0s 560us/step - loss: 0.3375 - accuracy: 0.8600\n",
            "Epoch 68/100\n",
            "250/250 [==============================] - 0s 557us/step - loss: 0.3379 - accuracy: 0.8604\n",
            "Epoch 69/100\n",
            "250/250 [==============================] - 0s 582us/step - loss: 0.3371 - accuracy: 0.8604\n",
            "Epoch 70/100\n",
            "250/250 [==============================] - 0s 579us/step - loss: 0.3371 - accuracy: 0.8612\n",
            "Epoch 71/100\n",
            "250/250 [==============================] - 0s 565us/step - loss: 0.3361 - accuracy: 0.8614\n",
            "Epoch 72/100\n",
            "250/250 [==============================] - 0s 565us/step - loss: 0.3371 - accuracy: 0.8610\n",
            "Epoch 73/100\n",
            "250/250 [==============================] - 0s 639us/step - loss: 0.3373 - accuracy: 0.8599\n",
            "Epoch 74/100\n",
            "250/250 [==============================] - 0s 569us/step - loss: 0.3368 - accuracy: 0.8621\n",
            "Epoch 75/100\n",
            "250/250 [==============================] - 0s 640us/step - loss: 0.3364 - accuracy: 0.8601\n",
            "Epoch 76/100\n",
            "250/250 [==============================] - 0s 573us/step - loss: 0.3363 - accuracy: 0.8611\n",
            "Epoch 77/100\n",
            "250/250 [==============================] - 0s 568us/step - loss: 0.3367 - accuracy: 0.8619\n",
            "Epoch 78/100\n",
            "250/250 [==============================] - 0s 594us/step - loss: 0.3363 - accuracy: 0.8618\n",
            "Epoch 79/100\n",
            "250/250 [==============================] - 0s 569us/step - loss: 0.3362 - accuracy: 0.8610\n",
            "Epoch 80/100\n",
            "250/250 [==============================] - 0s 557us/step - loss: 0.3360 - accuracy: 0.8626\n",
            "Epoch 81/100\n",
            "250/250 [==============================] - 0s 551us/step - loss: 0.3363 - accuracy: 0.8616\n",
            "Epoch 82/100\n",
            "250/250 [==============================] - 0s 552us/step - loss: 0.3358 - accuracy: 0.8627\n",
            "Epoch 83/100\n",
            "250/250 [==============================] - 0s 576us/step - loss: 0.3359 - accuracy: 0.8629\n",
            "Epoch 84/100\n",
            "250/250 [==============================] - 0s 559us/step - loss: 0.3354 - accuracy: 0.8618\n",
            "Epoch 85/100\n",
            "250/250 [==============================] - 0s 546us/step - loss: 0.3356 - accuracy: 0.8618\n",
            "Epoch 86/100\n",
            "250/250 [==============================] - 0s 552us/step - loss: 0.3355 - accuracy: 0.8633\n",
            "Epoch 87/100\n",
            "250/250 [==============================] - 0s 556us/step - loss: 0.3354 - accuracy: 0.8626\n",
            "Epoch 88/100\n",
            "250/250 [==============================] - 0s 547us/step - loss: 0.3358 - accuracy: 0.8625\n",
            "Epoch 89/100\n",
            "250/250 [==============================] - 0s 553us/step - loss: 0.3353 - accuracy: 0.8634\n",
            "Epoch 90/100\n",
            "250/250 [==============================] - 0s 556us/step - loss: 0.3356 - accuracy: 0.8630\n",
            "Epoch 91/100\n",
            "250/250 [==============================] - 0s 564us/step - loss: 0.3351 - accuracy: 0.8619\n",
            "Epoch 92/100\n",
            "250/250 [==============================] - 0s 553us/step - loss: 0.3353 - accuracy: 0.8631\n",
            "Epoch 93/100\n",
            "250/250 [==============================] - 0s 563us/step - loss: 0.3350 - accuracy: 0.8648\n",
            "Epoch 94/100\n",
            "250/250 [==============================] - 0s 570us/step - loss: 0.3353 - accuracy: 0.8631\n",
            "Epoch 95/100\n",
            "250/250 [==============================] - 0s 558us/step - loss: 0.3349 - accuracy: 0.8608\n",
            "Epoch 96/100\n",
            "250/250 [==============================] - 0s 552us/step - loss: 0.3351 - accuracy: 0.8610\n",
            "Epoch 97/100\n",
            "250/250 [==============================] - 0s 566us/step - loss: 0.3350 - accuracy: 0.8611\n",
            "Epoch 98/100\n",
            "250/250 [==============================] - 0s 548us/step - loss: 0.3353 - accuracy: 0.8640\n",
            "Epoch 99/100\n",
            "250/250 [==============================] - 0s 539us/step - loss: 0.3352 - accuracy: 0.8618\n",
            "Epoch 100/100\n",
            "250/250 [==============================] - 0s 526us/step - loss: 0.3348 - accuracy: 0.8620\n"
          ],
          "name": "stdout"
        },
        {
          "output_type": "execute_result",
          "data": {
            "text/plain": [
              "<tensorflow.python.keras.callbacks.History at 0x7fdbaceddcf8>"
            ]
          },
          "metadata": {
            "tags": []
          },
          "execution_count": 31
        }
      ]
    },
    {
      "cell_type": "markdown",
      "metadata": {
        "id": "r-QO0Nhr_jFm"
      },
      "source": [
        "predicting the result in the trained ann\n"
      ]
    },
    {
      "cell_type": "code",
      "metadata": {
        "id": "234gfmo7-kXS",
        "colab": {
          "base_uri": "https://localhost:8080/",
          "height": 34
        },
        "outputId": "fbdc5d8d-5f65-4784-a3f2-07a09e630fd0"
      },
      "source": [
        "print(ann.predict(sc.transform([[1,0,0,600,1,40,3,6000,2,1,1,50000]]))>0.5)"
      ],
      "execution_count": null,
      "outputs": [
        {
          "output_type": "stream",
          "text": [
            "[[False]]\n"
          ],
          "name": "stdout"
        }
      ]
    },
    {
      "cell_type": "code",
      "metadata": {
        "id": "D1PQshsm_huT",
        "colab": {
          "base_uri": "https://localhost:8080/",
          "height": 68
        },
        "outputId": "e73e320c-bd3b-4ee0-eb69-5570291b752f"
      },
      "source": [
        "y_pred=ann.predict(xtest)\n",
        "y_pred=(y_pred>0.5)\n",
        "from sklearn.metrics import confusion_matrix,accuracy_score\n",
        "an=confusion_matrix(ytest,y_pred)\n",
        "print(an)\n",
        "accuracy_score(ytest,y_pred)\n"
      ],
      "execution_count": null,
      "outputs": [
        {
          "output_type": "stream",
          "text": [
            "[[1547   48]\n",
            " [ 226  179]]\n"
          ],
          "name": "stdout"
        },
        {
          "output_type": "execute_result",
          "data": {
            "text/plain": [
              "0.863"
            ]
          },
          "metadata": {
            "tags": []
          },
          "execution_count": 33
        }
      ]
    },
    {
      "cell_type": "code",
      "metadata": {
        "id": "7MnRP2yZOMye"
      },
      "source": [
        ""
      ],
      "execution_count": null,
      "outputs": []
    }
  ]
}